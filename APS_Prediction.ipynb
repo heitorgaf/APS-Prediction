{
 "cells": [
  {
   "cell_type": "markdown",
   "id": "c30bdd1b",
   "metadata": {},
   "source": [
    "## Content"
   ]
  },
  {
   "cell_type": "markdown",
   "id": "ca6b662b",
   "metadata": {},
   "source": [
    "1. Introduction\n",
    "\n",
    "1. Loading Scania Trucks Dataset and Characterisation of the Dataset\n",
    "\n",
    "1. Dealing with Missing Data\n",
    "\n",
    "1. Checking Class Feature\n",
    "\n",
    "1. Working with NaN values\n",
    "\n",
    "1. Dropping features and rows\n",
    "\n",
    "1. Calculate the skewness of the dataset\n",
    "\n",
    "1. Replacing NaNs using Median of the column\n",
    "\n",
    "1. Training (Without Dimensionality Reduction)\n",
    "\n",
    "1. PCA\n",
    "\n",
    "1. Findings\n",
    "\n",
    "1. Conclusion\n",
    "\n",
    "1. References"
   ]
  },
  {
   "cell_type": "markdown",
   "id": "094fcfb4",
   "metadata": {},
   "source": [
    "## 1. Introduction\n",
    "\n",
    "The collection is made up of information gathered from large Scania vehicles in regular use. The system under consideration is the Air Pressure System (APS), which creates pressured air used for various truck operations like braking and gear changes. Component failures for a certain APS system component make up the datasets' positive class. Trucks in the bad class have malfunctions for parts unrelated to the APS. An expert-selected subset of all accessible data makes up the data."
   ]
  },
  {
   "cell_type": "markdown",
   "id": "afb725d9",
   "metadata": {},
   "source": [
    "## 2. Loading Scania Trucks Dataset and Characterisation of the Dataset"
   ]
  },
  {
   "cell_type": "code",
   "execution_count": 1,
   "id": "7c96d0a6",
   "metadata": {},
   "outputs": [],
   "source": [
    "import numpy as np\n",
    "import pandas as pd\n",
    "import seaborn as sns \n",
    "import matplotlib.pyplot as plt\n",
    "%matplotlib inline\n",
    "from sklearn.model_selection import train_test_split\n",
    "from sklearn import metrics\n",
    "from matplotlib import pyplot\n",
    "from sklearn.model_selection import train_test_split\n",
    "from sklearn.model_selection import cross_val_score\n",
    "from sklearn.model_selection import StratifiedKFold\n",
    "from sklearn.linear_model import LogisticRegression\n",
    "from sklearn.tree import DecisionTreeClassifier\n",
    "from sklearn.neighbors import KNeighborsClassifier\n",
    "from sklearn.discriminant_analysis import LinearDiscriminantAnalysis\n",
    "from sklearn.naive_bayes import GaussianNB\n",
    "from sklearn.metrics import classification_report\n",
    "from sklearn.metrics import confusion_matrix\n",
    "from sklearn.metrics import accuracy_score\n",
    "from sklearn.svm import SVC\n",
    "from sklearn.decomposition import PCA\n",
    "\n",
    "import warnings\n",
    "warnings.simplefilter(\"ignore\")"
   ]
  },
  {
   "cell_type": "code",
   "execution_count": 2,
   "id": "706024b2",
   "metadata": {},
   "outputs": [],
   "source": [
    "trucks_df = pd.read_csv(\"aps_failure_set.csv\")"
   ]
  },
  {
   "cell_type": "code",
   "execution_count": 3,
   "id": "a64efaca",
   "metadata": {},
   "outputs": [
    {
     "data": {
      "text/html": [
       "<div>\n",
       "<style scoped>\n",
       "    .dataframe tbody tr th:only-of-type {\n",
       "        vertical-align: middle;\n",
       "    }\n",
       "\n",
       "    .dataframe tbody tr th {\n",
       "        vertical-align: top;\n",
       "    }\n",
       "\n",
       "    .dataframe thead th {\n",
       "        text-align: right;\n",
       "    }\n",
       "</style>\n",
       "<table border=\"1\" class=\"dataframe\">\n",
       "  <thead>\n",
       "    <tr style=\"text-align: right;\">\n",
       "      <th></th>\n",
       "      <th>class</th>\n",
       "      <th>aa_000</th>\n",
       "      <th>ab_000</th>\n",
       "      <th>ac_000</th>\n",
       "      <th>ad_000</th>\n",
       "      <th>ae_000</th>\n",
       "      <th>af_000</th>\n",
       "      <th>ag_000</th>\n",
       "      <th>ag_001</th>\n",
       "      <th>ag_002</th>\n",
       "      <th>...</th>\n",
       "      <th>ee_002</th>\n",
       "      <th>ee_003</th>\n",
       "      <th>ee_004</th>\n",
       "      <th>ee_005</th>\n",
       "      <th>ee_006</th>\n",
       "      <th>ee_007</th>\n",
       "      <th>ee_008</th>\n",
       "      <th>ee_009</th>\n",
       "      <th>ef_000</th>\n",
       "      <th>eg_000</th>\n",
       "    </tr>\n",
       "  </thead>\n",
       "  <tbody>\n",
       "    <tr>\n",
       "      <th>0</th>\n",
       "      <td>neg</td>\n",
       "      <td>76698</td>\n",
       "      <td>na</td>\n",
       "      <td>2130706438</td>\n",
       "      <td>280</td>\n",
       "      <td>0</td>\n",
       "      <td>0</td>\n",
       "      <td>0</td>\n",
       "      <td>0</td>\n",
       "      <td>0</td>\n",
       "      <td>...</td>\n",
       "      <td>1240520</td>\n",
       "      <td>493384</td>\n",
       "      <td>721044</td>\n",
       "      <td>469792</td>\n",
       "      <td>339156</td>\n",
       "      <td>157956</td>\n",
       "      <td>73224</td>\n",
       "      <td>0</td>\n",
       "      <td>0</td>\n",
       "      <td>0</td>\n",
       "    </tr>\n",
       "    <tr>\n",
       "      <th>1</th>\n",
       "      <td>neg</td>\n",
       "      <td>33058</td>\n",
       "      <td>na</td>\n",
       "      <td>0</td>\n",
       "      <td>na</td>\n",
       "      <td>0</td>\n",
       "      <td>0</td>\n",
       "      <td>0</td>\n",
       "      <td>0</td>\n",
       "      <td>0</td>\n",
       "      <td>...</td>\n",
       "      <td>421400</td>\n",
       "      <td>178064</td>\n",
       "      <td>293306</td>\n",
       "      <td>245416</td>\n",
       "      <td>133654</td>\n",
       "      <td>81140</td>\n",
       "      <td>97576</td>\n",
       "      <td>1500</td>\n",
       "      <td>0</td>\n",
       "      <td>0</td>\n",
       "    </tr>\n",
       "    <tr>\n",
       "      <th>2</th>\n",
       "      <td>neg</td>\n",
       "      <td>41040</td>\n",
       "      <td>na</td>\n",
       "      <td>228</td>\n",
       "      <td>100</td>\n",
       "      <td>0</td>\n",
       "      <td>0</td>\n",
       "      <td>0</td>\n",
       "      <td>0</td>\n",
       "      <td>0</td>\n",
       "      <td>...</td>\n",
       "      <td>277378</td>\n",
       "      <td>159812</td>\n",
       "      <td>423992</td>\n",
       "      <td>409564</td>\n",
       "      <td>320746</td>\n",
       "      <td>158022</td>\n",
       "      <td>95128</td>\n",
       "      <td>514</td>\n",
       "      <td>0</td>\n",
       "      <td>0</td>\n",
       "    </tr>\n",
       "    <tr>\n",
       "      <th>3</th>\n",
       "      <td>neg</td>\n",
       "      <td>12</td>\n",
       "      <td>0</td>\n",
       "      <td>70</td>\n",
       "      <td>66</td>\n",
       "      <td>0</td>\n",
       "      <td>10</td>\n",
       "      <td>0</td>\n",
       "      <td>0</td>\n",
       "      <td>0</td>\n",
       "      <td>...</td>\n",
       "      <td>240</td>\n",
       "      <td>46</td>\n",
       "      <td>58</td>\n",
       "      <td>44</td>\n",
       "      <td>10</td>\n",
       "      <td>0</td>\n",
       "      <td>0</td>\n",
       "      <td>0</td>\n",
       "      <td>4</td>\n",
       "      <td>32</td>\n",
       "    </tr>\n",
       "    <tr>\n",
       "      <th>4</th>\n",
       "      <td>neg</td>\n",
       "      <td>60874</td>\n",
       "      <td>na</td>\n",
       "      <td>1368</td>\n",
       "      <td>458</td>\n",
       "      <td>0</td>\n",
       "      <td>0</td>\n",
       "      <td>0</td>\n",
       "      <td>0</td>\n",
       "      <td>0</td>\n",
       "      <td>...</td>\n",
       "      <td>622012</td>\n",
       "      <td>229790</td>\n",
       "      <td>405298</td>\n",
       "      <td>347188</td>\n",
       "      <td>286954</td>\n",
       "      <td>311560</td>\n",
       "      <td>433954</td>\n",
       "      <td>1218</td>\n",
       "      <td>0</td>\n",
       "      <td>0</td>\n",
       "    </tr>\n",
       "  </tbody>\n",
       "</table>\n",
       "<p>5 rows × 171 columns</p>\n",
       "</div>"
      ],
      "text/plain": [
       "  class  aa_000 ab_000      ac_000 ad_000 ae_000 af_000 ag_000 ag_001 ag_002  \\\n",
       "0   neg   76698     na  2130706438    280      0      0      0      0      0   \n",
       "1   neg   33058     na           0     na      0      0      0      0      0   \n",
       "2   neg   41040     na         228    100      0      0      0      0      0   \n",
       "3   neg      12      0          70     66      0     10      0      0      0   \n",
       "4   neg   60874     na        1368    458      0      0      0      0      0   \n",
       "\n",
       "   ...   ee_002  ee_003  ee_004  ee_005  ee_006  ee_007  ee_008 ee_009 ef_000  \\\n",
       "0  ...  1240520  493384  721044  469792  339156  157956   73224      0      0   \n",
       "1  ...   421400  178064  293306  245416  133654   81140   97576   1500      0   \n",
       "2  ...   277378  159812  423992  409564  320746  158022   95128    514      0   \n",
       "3  ...      240      46      58      44      10       0       0      0      4   \n",
       "4  ...   622012  229790  405298  347188  286954  311560  433954   1218      0   \n",
       "\n",
       "  eg_000  \n",
       "0      0  \n",
       "1      0  \n",
       "2      0  \n",
       "3     32  \n",
       "4      0  \n",
       "\n",
       "[5 rows x 171 columns]"
      ]
     },
     "execution_count": 3,
     "metadata": {},
     "output_type": "execute_result"
    }
   ],
   "source": [
    "trucks_df.head()"
   ]
  },
  {
   "cell_type": "markdown",
   "id": "1d391870",
   "metadata": {},
   "source": [
    "<div class=\"alert alert-block alert-info\"> 📌 It is clear from a visual examination of the raw data that certain columns have missing values. My target set is in the first column labeled \"class\".</div>"
   ]
  },
  {
   "cell_type": "code",
   "execution_count": 4,
   "id": "61241d1f",
   "metadata": {},
   "outputs": [],
   "source": [
    "trucks_df['class'].replace('neg', 0, inplace = True)\n",
    "trucks_df['class'].replace('pos', 1, inplace = True)"
   ]
  },
  {
   "cell_type": "markdown",
   "id": "f0c85a0e",
   "metadata": {},
   "source": [
    "<div class=\"alert alert-block alert-info\"> 📌 Replace categorical data \"neg\" and \"pos\" with 0, 1.</div>"
   ]
  },
  {
   "cell_type": "code",
   "execution_count": 5,
   "id": "b6e0101a",
   "metadata": {},
   "outputs": [
    {
     "data": {
      "text/html": [
       "<div>\n",
       "<style scoped>\n",
       "    .dataframe tbody tr th:only-of-type {\n",
       "        vertical-align: middle;\n",
       "    }\n",
       "\n",
       "    .dataframe tbody tr th {\n",
       "        vertical-align: top;\n",
       "    }\n",
       "\n",
       "    .dataframe thead th {\n",
       "        text-align: right;\n",
       "    }\n",
       "</style>\n",
       "<table border=\"1\" class=\"dataframe\">\n",
       "  <thead>\n",
       "    <tr style=\"text-align: right;\">\n",
       "      <th></th>\n",
       "      <th>class</th>\n",
       "      <th>aa_000</th>\n",
       "      <th>ab_000</th>\n",
       "      <th>ac_000</th>\n",
       "      <th>ad_000</th>\n",
       "      <th>ae_000</th>\n",
       "      <th>af_000</th>\n",
       "      <th>ag_000</th>\n",
       "      <th>ag_001</th>\n",
       "      <th>ag_002</th>\n",
       "      <th>...</th>\n",
       "      <th>ee_002</th>\n",
       "      <th>ee_003</th>\n",
       "      <th>ee_004</th>\n",
       "      <th>ee_005</th>\n",
       "      <th>ee_006</th>\n",
       "      <th>ee_007</th>\n",
       "      <th>ee_008</th>\n",
       "      <th>ee_009</th>\n",
       "      <th>ef_000</th>\n",
       "      <th>eg_000</th>\n",
       "    </tr>\n",
       "  </thead>\n",
       "  <tbody>\n",
       "    <tr>\n",
       "      <th>0</th>\n",
       "      <td>0</td>\n",
       "      <td>76698</td>\n",
       "      <td>na</td>\n",
       "      <td>2130706438</td>\n",
       "      <td>280</td>\n",
       "      <td>0</td>\n",
       "      <td>0</td>\n",
       "      <td>0</td>\n",
       "      <td>0</td>\n",
       "      <td>0</td>\n",
       "      <td>...</td>\n",
       "      <td>1240520</td>\n",
       "      <td>493384</td>\n",
       "      <td>721044</td>\n",
       "      <td>469792</td>\n",
       "      <td>339156</td>\n",
       "      <td>157956</td>\n",
       "      <td>73224</td>\n",
       "      <td>0</td>\n",
       "      <td>0</td>\n",
       "      <td>0</td>\n",
       "    </tr>\n",
       "    <tr>\n",
       "      <th>1</th>\n",
       "      <td>0</td>\n",
       "      <td>33058</td>\n",
       "      <td>na</td>\n",
       "      <td>0</td>\n",
       "      <td>na</td>\n",
       "      <td>0</td>\n",
       "      <td>0</td>\n",
       "      <td>0</td>\n",
       "      <td>0</td>\n",
       "      <td>0</td>\n",
       "      <td>...</td>\n",
       "      <td>421400</td>\n",
       "      <td>178064</td>\n",
       "      <td>293306</td>\n",
       "      <td>245416</td>\n",
       "      <td>133654</td>\n",
       "      <td>81140</td>\n",
       "      <td>97576</td>\n",
       "      <td>1500</td>\n",
       "      <td>0</td>\n",
       "      <td>0</td>\n",
       "    </tr>\n",
       "    <tr>\n",
       "      <th>2</th>\n",
       "      <td>0</td>\n",
       "      <td>41040</td>\n",
       "      <td>na</td>\n",
       "      <td>228</td>\n",
       "      <td>100</td>\n",
       "      <td>0</td>\n",
       "      <td>0</td>\n",
       "      <td>0</td>\n",
       "      <td>0</td>\n",
       "      <td>0</td>\n",
       "      <td>...</td>\n",
       "      <td>277378</td>\n",
       "      <td>159812</td>\n",
       "      <td>423992</td>\n",
       "      <td>409564</td>\n",
       "      <td>320746</td>\n",
       "      <td>158022</td>\n",
       "      <td>95128</td>\n",
       "      <td>514</td>\n",
       "      <td>0</td>\n",
       "      <td>0</td>\n",
       "    </tr>\n",
       "    <tr>\n",
       "      <th>3</th>\n",
       "      <td>0</td>\n",
       "      <td>12</td>\n",
       "      <td>0</td>\n",
       "      <td>70</td>\n",
       "      <td>66</td>\n",
       "      <td>0</td>\n",
       "      <td>10</td>\n",
       "      <td>0</td>\n",
       "      <td>0</td>\n",
       "      <td>0</td>\n",
       "      <td>...</td>\n",
       "      <td>240</td>\n",
       "      <td>46</td>\n",
       "      <td>58</td>\n",
       "      <td>44</td>\n",
       "      <td>10</td>\n",
       "      <td>0</td>\n",
       "      <td>0</td>\n",
       "      <td>0</td>\n",
       "      <td>4</td>\n",
       "      <td>32</td>\n",
       "    </tr>\n",
       "    <tr>\n",
       "      <th>4</th>\n",
       "      <td>0</td>\n",
       "      <td>60874</td>\n",
       "      <td>na</td>\n",
       "      <td>1368</td>\n",
       "      <td>458</td>\n",
       "      <td>0</td>\n",
       "      <td>0</td>\n",
       "      <td>0</td>\n",
       "      <td>0</td>\n",
       "      <td>0</td>\n",
       "      <td>...</td>\n",
       "      <td>622012</td>\n",
       "      <td>229790</td>\n",
       "      <td>405298</td>\n",
       "      <td>347188</td>\n",
       "      <td>286954</td>\n",
       "      <td>311560</td>\n",
       "      <td>433954</td>\n",
       "      <td>1218</td>\n",
       "      <td>0</td>\n",
       "      <td>0</td>\n",
       "    </tr>\n",
       "  </tbody>\n",
       "</table>\n",
       "<p>5 rows × 171 columns</p>\n",
       "</div>"
      ],
      "text/plain": [
       "   class  aa_000 ab_000      ac_000 ad_000 ae_000 af_000 ag_000 ag_001 ag_002  \\\n",
       "0      0   76698     na  2130706438    280      0      0      0      0      0   \n",
       "1      0   33058     na           0     na      0      0      0      0      0   \n",
       "2      0   41040     na         228    100      0      0      0      0      0   \n",
       "3      0      12      0          70     66      0     10      0      0      0   \n",
       "4      0   60874     na        1368    458      0      0      0      0      0   \n",
       "\n",
       "   ...   ee_002  ee_003  ee_004  ee_005  ee_006  ee_007  ee_008 ee_009 ef_000  \\\n",
       "0  ...  1240520  493384  721044  469792  339156  157956   73224      0      0   \n",
       "1  ...   421400  178064  293306  245416  133654   81140   97576   1500      0   \n",
       "2  ...   277378  159812  423992  409564  320746  158022   95128    514      0   \n",
       "3  ...      240      46      58      44      10       0       0      0      4   \n",
       "4  ...   622012  229790  405298  347188  286954  311560  433954   1218      0   \n",
       "\n",
       "  eg_000  \n",
       "0      0  \n",
       "1      0  \n",
       "2      0  \n",
       "3     32  \n",
       "4      0  \n",
       "\n",
       "[5 rows x 171 columns]"
      ]
     },
     "execution_count": 5,
     "metadata": {},
     "output_type": "execute_result"
    }
   ],
   "source": [
    "trucks_df.head()"
   ]
  },
  {
   "cell_type": "code",
   "execution_count": 6,
   "id": "02e762b9",
   "metadata": {},
   "outputs": [
    {
     "data": {
      "text/plain": [
       "class      int64\n",
       "aa_000     int64\n",
       "ab_000    object\n",
       "ac_000    object\n",
       "ad_000    object\n",
       "           ...  \n",
       "ee_007    object\n",
       "ee_008    object\n",
       "ee_009    object\n",
       "ef_000    object\n",
       "eg_000    object\n",
       "Length: 171, dtype: object"
      ]
     },
     "execution_count": 6,
     "metadata": {},
     "output_type": "execute_result"
    }
   ],
   "source": [
    "trucks_df.dtypes"
   ]
  },
  {
   "cell_type": "markdown",
   "id": "facd354d",
   "metadata": {},
   "source": [
    "<div class=\"alert alert-block alert-info\"> 📌 Just with this presentation we can see that we are dealing with missing data. It is true to say that some of the values in our dataframe are tainted.</div>"
   ]
  },
  {
   "cell_type": "code",
   "execution_count": 7,
   "id": "9bceb83c",
   "metadata": {},
   "outputs": [
    {
     "data": {
      "text/plain": [
       "(60000, 171)"
      ]
     },
     "execution_count": 7,
     "metadata": {},
     "output_type": "execute_result"
    }
   ],
   "source": [
    "trucks_df.shape"
   ]
  },
  {
   "cell_type": "markdown",
   "id": "dc3945f2",
   "metadata": {},
   "source": [
    "<div class=\"alert alert-block alert-info\"> 📌 Dataset consists of 60,000 rows and 171 features.</div>"
   ]
  },
  {
   "cell_type": "code",
   "execution_count": 8,
   "id": "4a8cb208",
   "metadata": {},
   "outputs": [
    {
     "name": "stdout",
     "output_type": "stream",
     "text": [
      "number of duplicate rows:  (0, 171)\n"
     ]
    }
   ],
   "source": [
    "duplicate_rows_trucks = trucks_df[trucks_df.duplicated()]\n",
    "print(\"number of duplicate rows: \", duplicate_rows_trucks.shape)"
   ]
  },
  {
   "cell_type": "code",
   "execution_count": 9,
   "id": "52aeb4f9",
   "metadata": {},
   "outputs": [
    {
     "data": {
      "text/html": [
       "<div>\n",
       "<style scoped>\n",
       "    .dataframe tbody tr th:only-of-type {\n",
       "        vertical-align: middle;\n",
       "    }\n",
       "\n",
       "    .dataframe tbody tr th {\n",
       "        vertical-align: top;\n",
       "    }\n",
       "\n",
       "    .dataframe thead th {\n",
       "        text-align: right;\n",
       "    }\n",
       "</style>\n",
       "<table border=\"1\" class=\"dataframe\">\n",
       "  <thead>\n",
       "    <tr style=\"text-align: right;\">\n",
       "      <th></th>\n",
       "      <th>class</th>\n",
       "      <th>aa_000</th>\n",
       "    </tr>\n",
       "  </thead>\n",
       "  <tbody>\n",
       "    <tr>\n",
       "      <th>count</th>\n",
       "      <td>60000.000000</td>\n",
       "      <td>6.000000e+04</td>\n",
       "    </tr>\n",
       "    <tr>\n",
       "      <th>mean</th>\n",
       "      <td>0.016667</td>\n",
       "      <td>5.933650e+04</td>\n",
       "    </tr>\n",
       "    <tr>\n",
       "      <th>std</th>\n",
       "      <td>0.128020</td>\n",
       "      <td>1.454301e+05</td>\n",
       "    </tr>\n",
       "    <tr>\n",
       "      <th>min</th>\n",
       "      <td>0.000000</td>\n",
       "      <td>0.000000e+00</td>\n",
       "    </tr>\n",
       "    <tr>\n",
       "      <th>25%</th>\n",
       "      <td>0.000000</td>\n",
       "      <td>8.340000e+02</td>\n",
       "    </tr>\n",
       "    <tr>\n",
       "      <th>50%</th>\n",
       "      <td>0.000000</td>\n",
       "      <td>3.077600e+04</td>\n",
       "    </tr>\n",
       "    <tr>\n",
       "      <th>75%</th>\n",
       "      <td>0.000000</td>\n",
       "      <td>4.866800e+04</td>\n",
       "    </tr>\n",
       "    <tr>\n",
       "      <th>max</th>\n",
       "      <td>1.000000</td>\n",
       "      <td>2.746564e+06</td>\n",
       "    </tr>\n",
       "  </tbody>\n",
       "</table>\n",
       "</div>"
      ],
      "text/plain": [
       "              class        aa_000\n",
       "count  60000.000000  6.000000e+04\n",
       "mean       0.016667  5.933650e+04\n",
       "std        0.128020  1.454301e+05\n",
       "min        0.000000  0.000000e+00\n",
       "25%        0.000000  8.340000e+02\n",
       "50%        0.000000  3.077600e+04\n",
       "75%        0.000000  4.866800e+04\n",
       "max        1.000000  2.746564e+06"
      ]
     },
     "execution_count": 9,
     "metadata": {},
     "output_type": "execute_result"
    }
   ],
   "source": [
    "trucks_df.describe()"
   ]
  },
  {
   "cell_type": "markdown",
   "id": "0ce47f59",
   "metadata": {},
   "source": [
    "<div class=\"alert alert-block alert-info\"> 📌 Descriptive statistics of numerical variables.</div>"
   ]
  },
  {
   "cell_type": "code",
   "execution_count": 10,
   "id": "db55fd9a",
   "metadata": {},
   "outputs": [
    {
     "data": {
      "text/html": [
       "<div>\n",
       "<style scoped>\n",
       "    .dataframe tbody tr th:only-of-type {\n",
       "        vertical-align: middle;\n",
       "    }\n",
       "\n",
       "    .dataframe tbody tr th {\n",
       "        vertical-align: top;\n",
       "    }\n",
       "\n",
       "    .dataframe thead th {\n",
       "        text-align: right;\n",
       "    }\n",
       "</style>\n",
       "<table border=\"1\" class=\"dataframe\">\n",
       "  <thead>\n",
       "    <tr style=\"text-align: right;\">\n",
       "      <th></th>\n",
       "      <th>ab_000</th>\n",
       "      <th>ac_000</th>\n",
       "      <th>ad_000</th>\n",
       "      <th>ae_000</th>\n",
       "      <th>af_000</th>\n",
       "      <th>ag_000</th>\n",
       "      <th>ag_001</th>\n",
       "      <th>ag_002</th>\n",
       "      <th>ag_003</th>\n",
       "      <th>ag_004</th>\n",
       "      <th>...</th>\n",
       "      <th>ee_002</th>\n",
       "      <th>ee_003</th>\n",
       "      <th>ee_004</th>\n",
       "      <th>ee_005</th>\n",
       "      <th>ee_006</th>\n",
       "      <th>ee_007</th>\n",
       "      <th>ee_008</th>\n",
       "      <th>ee_009</th>\n",
       "      <th>ef_000</th>\n",
       "      <th>eg_000</th>\n",
       "    </tr>\n",
       "  </thead>\n",
       "  <tbody>\n",
       "    <tr>\n",
       "      <th>count</th>\n",
       "      <td>60000</td>\n",
       "      <td>60000</td>\n",
       "      <td>60000</td>\n",
       "      <td>60000</td>\n",
       "      <td>60000</td>\n",
       "      <td>60000</td>\n",
       "      <td>60000</td>\n",
       "      <td>60000</td>\n",
       "      <td>60000</td>\n",
       "      <td>60000</td>\n",
       "      <td>...</td>\n",
       "      <td>60000</td>\n",
       "      <td>60000</td>\n",
       "      <td>60000</td>\n",
       "      <td>60000</td>\n",
       "      <td>60000</td>\n",
       "      <td>60000</td>\n",
       "      <td>60000</td>\n",
       "      <td>60000</td>\n",
       "      <td>60000</td>\n",
       "      <td>60000</td>\n",
       "    </tr>\n",
       "    <tr>\n",
       "      <th>unique</th>\n",
       "      <td>30</td>\n",
       "      <td>2062</td>\n",
       "      <td>1887</td>\n",
       "      <td>334</td>\n",
       "      <td>419</td>\n",
       "      <td>155</td>\n",
       "      <td>618</td>\n",
       "      <td>2423</td>\n",
       "      <td>7880</td>\n",
       "      <td>23072</td>\n",
       "      <td>...</td>\n",
       "      <td>34489</td>\n",
       "      <td>31712</td>\n",
       "      <td>35189</td>\n",
       "      <td>36289</td>\n",
       "      <td>31796</td>\n",
       "      <td>30470</td>\n",
       "      <td>24214</td>\n",
       "      <td>9725</td>\n",
       "      <td>29</td>\n",
       "      <td>50</td>\n",
       "    </tr>\n",
       "    <tr>\n",
       "      <th>top</th>\n",
       "      <td>na</td>\n",
       "      <td>0</td>\n",
       "      <td>na</td>\n",
       "      <td>0</td>\n",
       "      <td>0</td>\n",
       "      <td>0</td>\n",
       "      <td>0</td>\n",
       "      <td>0</td>\n",
       "      <td>0</td>\n",
       "      <td>0</td>\n",
       "      <td>...</td>\n",
       "      <td>0</td>\n",
       "      <td>0</td>\n",
       "      <td>0</td>\n",
       "      <td>0</td>\n",
       "      <td>0</td>\n",
       "      <td>0</td>\n",
       "      <td>0</td>\n",
       "      <td>0</td>\n",
       "      <td>0</td>\n",
       "      <td>0</td>\n",
       "    </tr>\n",
       "    <tr>\n",
       "      <th>freq</th>\n",
       "      <td>46329</td>\n",
       "      <td>8752</td>\n",
       "      <td>14861</td>\n",
       "      <td>55543</td>\n",
       "      <td>55476</td>\n",
       "      <td>59133</td>\n",
       "      <td>58587</td>\n",
       "      <td>56181</td>\n",
       "      <td>46894</td>\n",
       "      <td>1305</td>\n",
       "      <td>...</td>\n",
       "      <td>1364</td>\n",
       "      <td>1557</td>\n",
       "      <td>1797</td>\n",
       "      <td>2814</td>\n",
       "      <td>4458</td>\n",
       "      <td>7898</td>\n",
       "      <td>17280</td>\n",
       "      <td>31863</td>\n",
       "      <td>57021</td>\n",
       "      <td>56794</td>\n",
       "    </tr>\n",
       "  </tbody>\n",
       "</table>\n",
       "<p>4 rows × 169 columns</p>\n",
       "</div>"
      ],
      "text/plain": [
       "       ab_000 ac_000 ad_000 ae_000 af_000 ag_000 ag_001 ag_002 ag_003 ag_004  \\\n",
       "count   60000  60000  60000  60000  60000  60000  60000  60000  60000  60000   \n",
       "unique     30   2062   1887    334    419    155    618   2423   7880  23072   \n",
       "top        na      0     na      0      0      0      0      0      0      0   \n",
       "freq    46329   8752  14861  55543  55476  59133  58587  56181  46894   1305   \n",
       "\n",
       "        ... ee_002 ee_003 ee_004 ee_005 ee_006 ee_007 ee_008 ee_009 ef_000  \\\n",
       "count   ...  60000  60000  60000  60000  60000  60000  60000  60000  60000   \n",
       "unique  ...  34489  31712  35189  36289  31796  30470  24214   9725     29   \n",
       "top     ...      0      0      0      0      0      0      0      0      0   \n",
       "freq    ...   1364   1557   1797   2814   4458   7898  17280  31863  57021   \n",
       "\n",
       "       eg_000  \n",
       "count   60000  \n",
       "unique     50  \n",
       "top         0  \n",
       "freq    56794  \n",
       "\n",
       "[4 rows x 169 columns]"
      ]
     },
     "execution_count": 10,
     "metadata": {},
     "output_type": "execute_result"
    }
   ],
   "source": [
    "trucks_df.describe(include=object)"
   ]
  },
  {
   "cell_type": "markdown",
   "id": "adc0a68f",
   "metadata": {},
   "source": [
    "<div class=\"alert alert-block alert-info\"> 📌 Descriptive statistics of categorical variables. After the correction of the dataframe, it is expected that this situation will change.</div>"
   ]
  },
  {
   "cell_type": "markdown",
   "id": "bbd48661",
   "metadata": {},
   "source": [
    "## 3. Dealing with Missing Data"
   ]
  },
  {
   "cell_type": "markdown",
   "id": "199d2d9a",
   "metadata": {},
   "source": [
    "<div class=\"alert alert-block alert-info\"> 📌 One way of finding whether we have null values in the data is by using the isnull() function.</div>"
   ]
  },
  {
   "cell_type": "code",
   "execution_count": 11,
   "id": "d1b0159a",
   "metadata": {},
   "outputs": [
    {
     "data": {
      "text/plain": [
       "False"
      ]
     },
     "execution_count": 11,
     "metadata": {},
     "output_type": "execute_result"
    }
   ],
   "source": [
    "trucks_df.isnull().values.any()"
   ]
  },
  {
   "cell_type": "markdown",
   "id": "b200d069",
   "metadata": {},
   "source": [
    "<div class=\"alert alert-block alert-info\"> 📌 Another way is using df.info().</div>"
   ]
  },
  {
   "cell_type": "code",
   "execution_count": 12,
   "id": "64bafb3f",
   "metadata": {},
   "outputs": [
    {
     "name": "stdout",
     "output_type": "stream",
     "text": [
      "<class 'pandas.core.frame.DataFrame'>\n",
      "RangeIndex: 60000 entries, 0 to 59999\n",
      "Columns: 171 entries, class to eg_000\n",
      "dtypes: int64(2), object(169)\n",
      "memory usage: 78.3+ MB\n"
     ]
    }
   ],
   "source": [
    "trucks_df.info()"
   ]
  },
  {
   "cell_type": "markdown",
   "id": "b42c591a",
   "metadata": {},
   "source": [
    "<div class=\"alert alert-block alert-info\"> 📌 The presence of 169 categorical variables is an indication that there are NaN values.</div>"
   ]
  },
  {
   "cell_type": "markdown",
   "id": "11f99d92",
   "metadata": {},
   "source": [
    "## 4. Checking Class Feature"
   ]
  },
  {
   "cell_type": "code",
   "execution_count": 13,
   "id": "9fe52d99",
   "metadata": {},
   "outputs": [
    {
     "data": {
      "text/plain": [
       "0    59000\n",
       "1     1000\n",
       "Name: class, dtype: int64"
      ]
     },
     "execution_count": 13,
     "metadata": {},
     "output_type": "execute_result"
    }
   ],
   "source": [
    "trucks_df[\"class\"].value_counts()"
   ]
  },
  {
   "cell_type": "code",
   "execution_count": 14,
   "id": "f5ebce2a",
   "metadata": {},
   "outputs": [
    {
     "data": {
      "image/png": "[encoded data removed]",
      "text/plain": [
       "<Figure size 640x480 with 1 Axes>"
      ]
     },
     "metadata": {},
     "output_type": "display_data"
    },
    {
     "data": {
      "text/plain": [
       "<Figure size 600x200 with 0 Axes>"
      ]
     },
     "metadata": {},
     "output_type": "display_data"
    }
   ],
   "source": [
    "#Countplot\n",
    "sns.countplot(x=\"class\", data=trucks_df)\n",
    "plt.xlabel(\"Class\", fontsize = 12)\n",
    "plt.ylabel(\"Count\", fontsize = 12)\n",
    "plt.figure(figsize=(6,2))\n",
    "plt.show()"
   ]
  },
  {
   "cell_type": "markdown",
   "id": "0eec532b",
   "metadata": {},
   "source": [
    "<div class=\"alert alert-block alert-info\"> 📌 The 'class' feature, also the target attribute for this model, is highly imbalanced (the number of samples in one class is much larger than in another class).\n",
    "\n",
    "1. Positive class (1)- comprises of APS system component failures for a particular component.\n",
    "1. Negative class (0)- consists of trucks with problems with parts that are not APS-related.</div>"
   ]
  },
  {
   "cell_type": "markdown",
   "id": "d5a7988f",
   "metadata": {},
   "source": [
    "<div class=\"alert alert-block alert-info\"> 📌 If necessary precautions are not taken, specifically class imbalance and missing values, can impact how well any machine learning system performs.</div>"
   ]
  },
  {
   "cell_type": "markdown",
   "id": "3b795b75",
   "metadata": {},
   "source": [
    "## 5. Working with NaN values"
   ]
  },
  {
   "cell_type": "code",
   "execution_count": 15,
   "id": "858a0c0c",
   "metadata": {},
   "outputs": [
    {
     "name": "stdout",
     "output_type": "stream",
     "text": [
      "Total of missing data in our dataframe : 0\n",
      "Total of data in our dataframe : 10260000\n",
      "Percentual of missing data : 0.00\n"
     ]
    }
   ],
   "source": [
    "md = trucks_df.isnull().sum().sum()\n",
    "print(\"Total of missing data in our dataframe :\", md)\n",
    "no_md = trucks_df.notna().sum().sum()\n",
    "print(\"Total of data in our dataframe :\", no_md)\n",
    "per_md = (md/no_md)*100\n",
    "print(\"Percentual of missing data :\", \"%.2f\" % per_md)"
   ]
  },
  {
   "cell_type": "markdown",
   "id": "e3ec461d",
   "metadata": {},
   "source": [
    "<div class=\"alert alert-block alert-info\"> 📌 This dataset is known to have a high number of missing values. Sometimes though, instead of np.nan null values could be present as empty strings or other values that represent null values, so we must be careful and make sure that all the null values in our dataset are np.nan values.</div>"
   ]
  },
  {
   "cell_type": "code",
   "execution_count": 16,
   "id": "d805975d",
   "metadata": {},
   "outputs": [],
   "source": [
    "# a list with all missing value formats\n",
    "missing_value_formats = [\"n.a.\",\"?\",\"NA\",\"n/a\", \"na\", \"--\"]\n",
    "trucks_df = pd.read_csv(\"aps_failure_set.csv\", na_values = missing_value_formats)"
   ]
  },
  {
   "cell_type": "markdown",
   "id": "96259d2b",
   "metadata": {},
   "source": [
    "<div class=\"alert alert-block alert-info\"> 📌 Now I have all my missing values in the same format.</div>"
   ]
  },
  {
   "cell_type": "code",
   "execution_count": 17,
   "id": "a4b1b4cd",
   "metadata": {},
   "outputs": [],
   "source": [
    "# Creating a dictionary whose keys are the column names and values are the percentage of missing values\n",
    "nan_count = {k:list(trucks_df.isna().sum()*100/trucks_df.shape[0])[i] for i,k in enumerate(trucks_df.columns)}\n",
    "\n",
    "# Sorting the dictionary in descending order based on the percentage of missing values\n",
    "nan_count = {k: v for k, v in sorted(nan_count.items(), key=lambda item: item[1],reverse=True)}"
   ]
  },
  {
   "cell_type": "code",
   "execution_count": 18,
   "id": "462cec45",
   "metadata": {},
   "outputs": [
    {
     "data": {
      "image/png": "[encoded data removed]",
      "text/plain": [
       "<Figure size 2000x1000 with 1 Axes>"
      ]
     },
     "metadata": {},
     "output_type": "display_data"
    }
   ],
   "source": [
    "# Plotting a graph showing the top 15 features having highest percentage of missing values \n",
    "sns.set_style(style=\"whitegrid\")\n",
    "plt.figure(figsize=(20,10))\n",
    "\n",
    "# Bar Plot\n",
    "plot = sns.barplot(x= list(nan_count.keys())[:15],y = list(nan_count.values())[:15],palette=\"hls\")\n",
    "\n",
    "# Add annotations above each bar signifying their value\n",
    "for p in plot.patches:\n",
    "        plot.annotate('{:.1f}%'.format(p.get_height()), (p.get_x()+0.2, p.get_height()+1))\n",
    "\n",
    "# Make y-axis more interpretable\n",
    "plot.set_yticklabels(map('{:.1f}%'.format, plot.yaxis.get_majorticklocs())) \n",
    "plt.show()"
   ]
  },
  {
   "cell_type": "markdown",
   "id": "2d0c6e22",
   "metadata": {},
   "source": [
    "<div class=\"alert alert-block alert-info\"> 📌 The percentage of missing data is significantly high in some features (As high as 82% in a feature).I will drop columns containing more than 70% of missing values.</div>\n",
    "\n",
    "(RICO,2019)"
   ]
  },
  {
   "cell_type": "markdown",
   "id": "7335933c",
   "metadata": {},
   "source": [
    "## 6. Dropping features and rows"
   ]
  },
  {
   "cell_type": "code",
   "execution_count": 19,
   "id": "38960a21",
   "metadata": {},
   "outputs": [],
   "source": [
    "# Only keep columns with at least 70% non-NaN values\n",
    "trucks_new = trucks_df.dropna(thresh=0.7*len(trucks_df), axis=1)"
   ]
  },
  {
   "cell_type": "code",
   "execution_count": 20,
   "id": "00db85ae",
   "metadata": {},
   "outputs": [
    {
     "data": {
      "text/plain": [
       "(60000, 161)"
      ]
     },
     "execution_count": 20,
     "metadata": {},
     "output_type": "execute_result"
    }
   ],
   "source": [
    "trucks_new.shape"
   ]
  },
  {
   "cell_type": "code",
   "execution_count": 21,
   "id": "fd99cdab",
   "metadata": {},
   "outputs": [],
   "source": [
    "trucks_clean = trucks_new.dropna(thresh=0.7*len(trucks_new.columns))"
   ]
  },
  {
   "cell_type": "code",
   "execution_count": 22,
   "id": "3c920355",
   "metadata": {},
   "outputs": [
    {
     "data": {
      "text/plain": [
       "(57107, 161)"
      ]
     },
     "execution_count": 22,
     "metadata": {},
     "output_type": "execute_result"
    }
   ],
   "source": [
    "trucks_clean.shape"
   ]
  },
  {
   "cell_type": "markdown",
   "id": "7122860e",
   "metadata": {},
   "source": [
    "<div class=\"alert alert-block alert-info\"> 📌 I discarded features and rows with more than 70% missing values.</div>"
   ]
  },
  {
   "cell_type": "markdown",
   "id": "13780872",
   "metadata": {},
   "source": [
    "<div class=\"alert alert-block alert-info\"> \n",
    "    \n",
    "1. Earlier shape of x: (60000, 171);\n",
    "1. Shape after removal of rows and columns: (57107, 161).\n",
    "1. 10 features and 2893 rows were thus removed.\n",
    "</div>"
   ]
  },
  {
   "cell_type": "markdown",
   "id": "225b28c2",
   "metadata": {},
   "source": [
    "## 7. Calculate the skewness of the dataset"
   ]
  },
  {
   "cell_type": "code",
   "execution_count": 23,
   "id": "412bb0ce",
   "metadata": {},
   "outputs": [
    {
     "name": "stdout",
     "output_type": "stream",
     "text": [
      "The skewness of the DataFrame is:\n",
      " aa_000      6.115752\n",
      "ac_000      1.784845\n",
      "ad_000    212.459406\n",
      "ae_000     90.588252\n",
      "af_000     51.671770\n",
      "             ...    \n",
      "ee_007     15.717250\n",
      "ee_008     13.426265\n",
      "ee_009     29.214135\n",
      "ef_000     73.432440\n",
      "eg_000     89.029482\n",
      "Length: 160, dtype: float64\n"
     ]
    }
   ],
   "source": [
    "# Calculate the skewness of the DataFrame\n",
    "skewness = trucks_new.skew(axis = 0, skipna = True)\n",
    "\n",
    "print(\"The skewness of the DataFrame is:\\n\", skewness)"
   ]
  },
  {
   "cell_type": "code",
   "execution_count": 24,
   "id": "f0afe5ca",
   "metadata": {},
   "outputs": [
    {
     "name": "stdout",
     "output_type": "stream",
     "text": [
      "Out of 160 columns, 0 are skewed to the left, 159 are skewed to the right, and 1 are not skewed.\n"
     ]
    }
   ],
   "source": [
    "# Count how many columns are skewed to the left and how many are skewed to the right\n",
    "left_skewed = sum(skewness < 0)\n",
    "right_skewed = sum(skewness > 0)\n",
    "not_skewed = sum(skewness == 0)\n",
    "\n",
    "print(f\"Out of {len(skewness)} columns, {left_skewed} are skewed to the left, {right_skewed} are skewed to the right, and {not_skewed} are not skewed.\")"
   ]
  },
  {
   "cell_type": "markdown",
   "id": "038765cf",
   "metadata": {},
   "source": [
    "<div class=\"alert alert-block alert-info\"> 📌 The result represents how skewed the dataset is. The skewness specifies whether the dataset is skewed to the left or the right. If the skewness is negative, the dataset is biased to the left (negative skew), and if the skewness is positive, the dataset is skewed to the right (positive skew). The dataset is said to be symmetrical when the skewness value is 0.</div>\n",
    "\n",
    "(RICO, 2019)"
   ]
  },
  {
   "cell_type": "markdown",
   "id": "1d5d371a",
   "metadata": {},
   "source": [
    "## 8. Replacing NaNs using Median of the column"
   ]
  },
  {
   "cell_type": "markdown",
   "id": "ffbcdea7",
   "metadata": {},
   "source": [
    "<div class=\"alert alert-block alert-info\"> 📌 I imputed the rest of missing values using median. When the data is skewed, it is good to consider using the median value for replacing the missing values.</div>"
   ]
  },
  {
   "cell_type": "code",
   "execution_count": 25,
   "id": "8aa4396d",
   "metadata": {},
   "outputs": [],
   "source": [
    "newtrucks_clean = trucks_clean.fillna(trucks_clean.median())"
   ]
  },
  {
   "cell_type": "code",
   "execution_count": 26,
   "id": "02e5ba87",
   "metadata": {},
   "outputs": [
    {
     "data": {
      "text/plain": [
       "(57107, 161)"
      ]
     },
     "execution_count": 26,
     "metadata": {},
     "output_type": "execute_result"
    }
   ],
   "source": [
    "newtrucks_clean.shape"
   ]
  },
  {
   "cell_type": "code",
   "execution_count": 27,
   "id": "b713fb2f",
   "metadata": {},
   "outputs": [
    {
     "data": {
      "text/plain": [
       "0"
      ]
     },
     "execution_count": 27,
     "metadata": {},
     "output_type": "execute_result"
    }
   ],
   "source": [
    "newtrucks_clean.isnull().sum().sum()"
   ]
  },
  {
   "cell_type": "code",
   "execution_count": 28,
   "id": "a7e1abfe",
   "metadata": {},
   "outputs": [],
   "source": [
    "newtrucks_cleaned = newtrucks_clean.reset_index(drop=True)"
   ]
  },
  {
   "cell_type": "code",
   "execution_count": 29,
   "id": "de1c4ee5",
   "metadata": {},
   "outputs": [
    {
     "name": "stdout",
     "output_type": "stream",
     "text": [
      "<class 'pandas.core.frame.DataFrame'>\n",
      "RangeIndex: 57107 entries, 0 to 57106\n",
      "Columns: 161 entries, class to eg_000\n",
      "dtypes: float64(159), int64(1), object(1)\n",
      "memory usage: 70.1+ MB\n"
     ]
    }
   ],
   "source": [
    "newtrucks_cleaned.info()"
   ]
  },
  {
   "cell_type": "code",
   "execution_count": 30,
   "id": "008219e9",
   "metadata": {},
   "outputs": [
    {
     "name": "stdout",
     "output_type": "stream",
     "text": [
      "          aa_000    ac_000    ad_000    ae_000    af_000    ag_000    ag_001  \\\n",
      "aa_000  1.000000 -0.045556 -0.001659  0.056905  0.082263  0.019534  0.143472   \n",
      "ac_000 -0.045556  1.000000 -0.001863 -0.005021 -0.010467  0.017336 -0.005705   \n",
      "ad_000 -0.001659 -0.001863  1.000000 -0.000176 -0.000219 -0.000042 -0.000112   \n",
      "ae_000  0.056905 -0.005021 -0.000176  1.000000  0.822833 -0.000437 -0.001011   \n",
      "af_000  0.082263 -0.010467 -0.000219  0.822833  1.000000 -0.000543 -0.001241   \n",
      "...          ...       ...       ...       ...       ...       ...       ...   \n",
      "ee_007  0.578608 -0.036166 -0.000785  0.048967  0.065787  0.000431  0.055299   \n",
      "ee_008  0.410622  0.009962 -0.001449 -0.010878 -0.014011 -0.000850  0.005773   \n",
      "ee_009  0.199553  0.021956 -0.000819 -0.008197 -0.010226 -0.001263 -0.004352   \n",
      "ef_000  0.017095 -0.006751 -0.000087  0.070909  0.106476 -0.000075  0.002473   \n",
      "eg_000  0.032323  0.014317 -0.000101  0.041730  0.060827  0.000240  0.009757   \n",
      "\n",
      "          ag_002    ag_003    ag_004  ...    ee_002    ee_003    ee_004  \\\n",
      "aa_000  0.309561  0.488819  0.587897  ...  0.685983  0.682924  0.660162   \n",
      "ac_000 -0.021435 -0.042550 -0.054858  ... -0.026276 -0.020104 -0.020689   \n",
      "ad_000 -0.000223 -0.000420 -0.000672  ... -0.001654 -0.001628 -0.001580   \n",
      "ae_000  0.003715  0.028444  0.058342  ...  0.016588  0.024010  0.016758   \n",
      "af_000  0.008147  0.043806  0.088272  ...  0.031653  0.045786  0.029927   \n",
      "...          ...       ...       ...  ...       ...       ...       ...   \n",
      "ee_007  0.246102  0.542868  0.751248  ...  0.494839  0.479135  0.478183   \n",
      "ee_008  0.013278  0.018032  0.047348  ...  0.409929  0.419206  0.394478   \n",
      "ee_009 -0.009789 -0.018850 -0.016922  ...  0.194877  0.196518  0.180278   \n",
      "ef_000  0.009401  0.016295  0.017972  ...  0.006367  0.016204  0.005300   \n",
      "eg_000  0.027707  0.019197  0.019972  ...  0.007938  0.012577  0.013515   \n",
      "\n",
      "          ee_005    ee_006    ee_007    ee_008    ee_009    ef_000    eg_000  \n",
      "aa_000  0.683192  0.692365  0.578608  0.410622  0.199553  0.017095  0.032323  \n",
      "ac_000 -0.022714 -0.031361 -0.036166  0.009962  0.021956 -0.006751  0.014317  \n",
      "ad_000 -0.001285 -0.001216 -0.000785 -0.001449 -0.000819 -0.000087 -0.000101  \n",
      "ae_000  0.035015  0.076292  0.048967 -0.010878 -0.008197  0.070909  0.041730  \n",
      "af_000  0.058908  0.117706  0.065787 -0.014011 -0.010226  0.106476  0.060827  \n",
      "...          ...       ...       ...       ...       ...       ...       ...  \n",
      "ee_007  0.380650  0.545374  1.000000  0.205160  0.055366 -0.000978  0.002015  \n",
      "ee_008  0.354090  0.322718  0.205160  1.000000  0.692214 -0.006975 -0.002838  \n",
      "ee_009  0.154539  0.131105  0.055366  0.692214  1.000000 -0.003925 -0.000887  \n",
      "ef_000  0.041363  0.006841 -0.000978 -0.006975 -0.003925  1.000000  0.282186  \n",
      "eg_000  0.015078  0.027886  0.002015 -0.002838 -0.000887  0.282186  1.000000  \n",
      "\n",
      "[160 rows x 160 columns]\n"
     ]
    },
    {
     "data": {
      "image/png": "[encoded data removed]",
      "text/plain": [
       "<Figure size 640x480 with 2 Axes>"
      ]
     },
     "metadata": {},
     "output_type": "display_data"
    }
   ],
   "source": [
    "#Plotting heat map for feature correlation from correlation matrix\n",
    "# prints data that will be plotted\n",
    "# columns shown here are selected by corr() since\n",
    "# they are ideal for the plot\n",
    "print(newtrucks_cleaned.corr())\n",
    "  \n",
    "# plotting correlation heatmap\n",
    "dataplot = sns.heatmap(newtrucks_cleaned.corr(), cmap=\"YlGnBu\", annot=False)\n",
    "  \n",
    "# displaying heatmap\n",
    "plt.show()"
   ]
  },
  {
   "cell_type": "markdown",
   "id": "140264cc",
   "metadata": {},
   "source": [
    "<div class=\"alert alert-block alert-info\"> 📌 It aids in forecasting how the variables' relationship will change over time. I can get a broad overview of the more or less significant association between various variables thanks to the correlation matrix.</div>"
   ]
  },
  {
   "cell_type": "markdown",
   "id": "ffadfb43",
   "metadata": {},
   "source": [
    "## 9. Training (Without Dimensionality Reduction)"
   ]
  },
  {
   "cell_type": "markdown",
   "id": "008c02cb",
   "metadata": {},
   "source": [
    "### SMOTE and Feature Scaling"
   ]
  },
  {
   "cell_type": "markdown",
   "id": "b64ba041",
   "metadata": {},
   "source": [
    "<div class=\"alert alert-block alert-info\"> 📌 SMOTE (Synthetic Minority Over-sampling Technique) is a popular technique for balancing imbalanced datasets by oversampling the minority class and feature scaling is a technique for normalizing the variety of independent variables or features in data.</div>"
   ]
  },
  {
   "cell_type": "code",
   "execution_count": 31,
   "id": "e4ad615d",
   "metadata": {},
   "outputs": [
    {
     "name": "stdout",
     "output_type": "stream",
     "text": [
      "Shape of balanced dataset: (112756, 160) (112756,)\n"
     ]
    }
   ],
   "source": [
    "from imblearn.over_sampling import SMOTE\n",
    "\n",
    "# split the dataset into features (X) and target variable (y)\n",
    "X = newtrucks_cleaned.drop('class', axis=1)\n",
    "y = newtrucks_cleaned['class']\n",
    "\n",
    "# apply SMOTE to balance the dataset\n",
    "sm = SMOTE(random_state=42)\n",
    "X_res, y_res = sm.fit_resample(X, y)\n",
    "\n",
    "# split the balanced dataset into training and testing sets\n",
    "X_train, X_test, y_train, y_test = train_test_split(X_res, y_res, test_size=0.2, random_state=42)\n",
    "\n",
    "# Feature Scaling\n",
    "from sklearn.preprocessing import StandardScaler\n",
    "sc = StandardScaler()\n",
    "X_train = sc.fit_transform(X_train)\n",
    "X_test = sc.transform(X_test)\n",
    "\n",
    "# print the shape of the balanced dataset\n",
    "print(\"Shape of balanced dataset:\", X_res.shape, y_res.shape)"
   ]
  },
  {
   "cell_type": "code",
   "execution_count": 32,
   "id": "f1c106ec",
   "metadata": {},
   "outputs": [
    {
     "data": {
      "text/plain": [
       "((90204, 160), (22552, 160), (90204,), (22552,))"
      ]
     },
     "execution_count": 32,
     "metadata": {},
     "output_type": "execute_result"
    }
   ],
   "source": [
    "# Print the shape of training and testing data along with its labels.\n",
    "\n",
    "X_train.shape, X_test.shape, y_train.shape, y_test.shape"
   ]
  },
  {
   "cell_type": "code",
   "execution_count": 33,
   "id": "254bce46",
   "metadata": {},
   "outputs": [],
   "source": [
    "# Import knearest neighbors Classifier model\n",
    "from sklearn.neighbors import KNeighborsClassifier\n",
    "\n",
    "# Create KNN Classifier\n",
    "kNN = KNeighborsClassifier(n_neighbors = 3)\n",
    "\n",
    "# Train the model using the training sets\n",
    "kNN.fit(X_train, y_train)\n",
    "\n",
    "# Predict the response for test dataset\n",
    "y_pred = kNN.predict(X_test)"
   ]
  },
  {
   "cell_type": "code",
   "execution_count": 34,
   "id": "4dc9155f",
   "metadata": {},
   "outputs": [
    {
     "name": "stdout",
     "output_type": "stream",
     "text": [
      "0.992550549840369\n",
      "[[11234   165]\n",
      " [    3 11150]]\n",
      "              precision    recall  f1-score   support\n",
      "\n",
      "         neg       1.00      0.99      0.99     11399\n",
      "         pos       0.99      1.00      0.99     11153\n",
      "\n",
      "    accuracy                           0.99     22552\n",
      "   macro avg       0.99      0.99      0.99     22552\n",
      "weighted avg       0.99      0.99      0.99     22552\n",
      "\n"
     ]
    }
   ],
   "source": [
    "from sklearn.metrics import confusion_matrix\n",
    "\n",
    "#Generate the confusion matrix\n",
    "cf_matrix = confusion_matrix(y_test, y_pred)\n",
    "\n",
    "print(accuracy_score(y_test, y_pred))\n",
    "print(cf_matrix)\n",
    "print(classification_report(y_test, y_pred))"
   ]
  },
  {
   "cell_type": "code",
   "execution_count": 35,
   "id": "b0562604",
   "metadata": {},
   "outputs": [
    {
     "name": "stdout",
     "output_type": "stream",
     "text": [
      "True Negative: 11234\n",
      "False Positive: 165\n",
      "False Negative: 3\n",
      "True Positive: 11150\n"
     ]
    }
   ],
   "source": [
    "tn, fp, fn, tp = confusion_matrix(y_test, y_pred).ravel()\n",
    "\n",
    "print(\"True Negative:\", tn)\n",
    "print(\"False Positive:\", fp)\n",
    "print(\"False Negative:\", fn)\n",
    "print(\"True Positive:\", tp)"
   ]
  },
  {
   "cell_type": "markdown",
   "id": "3fd79fa3",
   "metadata": {},
   "source": [
    "<div class=\"alert alert-block alert-info\"> 📌 The accuracy shows the percentage of data that are correctly classified, In this case, 99% of our data are correctly classified (problems are not APS-related). When working with a class-imbalanced data set like this one, where there is a sizable difference between the amount of positive and negative labels, accuracy alone doesn't convey the whole story.</div>"
   ]
  },
  {
   "cell_type": "markdown",
   "id": "5b9cf175",
   "metadata": {},
   "source": [
    "<div class=\"alert alert-block alert-info\"> 📌 I had 22552 values for the testing (y_test). 11150 values were predicted as Neg, 3 were classified as Pos but actually they are Neg (type II error). 11234 values were predicted as Pos and 165 were classified as Neg although they are Pos (type I error).</div>"
   ]
  },
  {
   "cell_type": "markdown",
   "id": "66afe5e6",
   "metadata": {},
   "source": [
    "## 10. PCA"
   ]
  },
  {
   "cell_type": "markdown",
   "id": "ec860443",
   "metadata": {},
   "source": [
    "#### Defining in my own words\n",
    "\n",
    "<div class=\"alert alert-block alert-info\"> 📌 It is mainly used when you are dealing with a very large number of variables and, therefore, reduce the number of variables of a data set, while preserving as much information as possible. Because smaller data sets are easier to explore and visualize and make analyzing data points much easier and faster for machine learning algorithms without extraneous variables to process. It would be like you had to summarise a 100 page book into 10 pages and keep the key points in those 10 pages.</div>"
   ]
  },
  {
   "cell_type": "markdown",
   "id": "7a448c5b",
   "metadata": {},
   "source": [
    "## Preprocessing"
   ]
  },
  {
   "cell_type": "code",
   "execution_count": 36,
   "id": "d4923b97",
   "metadata": {},
   "outputs": [
    {
     "data": {
      "text/plain": [
       "(0.0, 6.0)"
      ]
     },
     "execution_count": 36,
     "metadata": {},
     "output_type": "execute_result"
    },
    {
     "data": {
      "image/png": "[encoded data removed]",
      "text/plain": [
       "<Figure size 640x480 with 1 Axes>"
      ]
     },
     "metadata": {},
     "output_type": "display_data"
    }
   ],
   "source": [
    "trucks_PCA = newtrucks_cleaned.drop(columns=[\"class\"])\n",
    "pca = PCA().fit(trucks_PCA)\n",
    "plt.plot(np.cumsum(pca.explained_variance_ratio_)) \n",
    "plt.xlabel('Number of components') \n",
    "plt.ylabel('Cumulative explained variance'); \n",
    "plt.xlim(0,6)"
   ]
  },
  {
   "cell_type": "markdown",
   "id": "9cbb50b4",
   "metadata": {},
   "source": [
    "<div class=\"alert alert-block alert-info\"> 📌 Knowing how many components are necessary to describe the data is essential when applying PCA in practice. Looking at the cumulative explained variance ratio will reveal this.\n",
    "You (David) asked to use PCA to establish the minimum number of features needed for retaining 99.5% variance. Based on the graph above, we can verify that 2 features are needed to contain 99.5% of the variance.</div>"
   ]
  },
  {
   "cell_type": "markdown",
   "id": "3a30435a",
   "metadata": {},
   "source": [
    "## Dimentionality Reduction"
   ]
  },
  {
   "cell_type": "code",
   "execution_count": 37,
   "id": "bc452ced",
   "metadata": {},
   "outputs": [],
   "source": [
    "pca = PCA(2)\n",
    "projected = pca.fit_transform(trucks_PCA)"
   ]
  },
  {
   "cell_type": "code",
   "execution_count": 38,
   "id": "ed4dcda9",
   "metadata": {},
   "outputs": [
    {
     "data": {
      "text/plain": [
       "(57107, 2)"
      ]
     },
     "execution_count": 38,
     "metadata": {},
     "output_type": "execute_result"
    }
   ],
   "source": [
    "projected.shape"
   ]
  },
  {
   "cell_type": "markdown",
   "id": "f7877e0a",
   "metadata": {},
   "source": [
    "<div class=\"alert alert-block alert-info\"> 📌 The transformed data has been reduced to 2 components based on the graph (Cumulative explained variance) presented earlier.</div>"
   ]
  },
  {
   "cell_type": "code",
   "execution_count": 39,
   "id": "780c0534",
   "metadata": {},
   "outputs": [],
   "source": [
    "trucks_pca = pd.DataFrame(projected, columns =['C1', 'C2'])"
   ]
  },
  {
   "cell_type": "code",
   "execution_count": 40,
   "id": "d04dbd5a",
   "metadata": {},
   "outputs": [
    {
     "data": {
      "text/html": [
       "<div>\n",
       "<style scoped>\n",
       "    .dataframe tbody tr th:only-of-type {\n",
       "        vertical-align: middle;\n",
       "    }\n",
       "\n",
       "    .dataframe tbody tr th {\n",
       "        vertical-align: top;\n",
       "    }\n",
       "\n",
       "    .dataframe thead th {\n",
       "        text-align: right;\n",
       "    }\n",
       "</style>\n",
       "<table border=\"1\" class=\"dataframe\">\n",
       "  <thead>\n",
       "    <tr style=\"text-align: right;\">\n",
       "      <th></th>\n",
       "      <th>C1</th>\n",
       "      <th>C2</th>\n",
       "    </tr>\n",
       "  </thead>\n",
       "  <tbody>\n",
       "    <tr>\n",
       "      <th>0</th>\n",
       "      <td>1.777733e+09</td>\n",
       "      <td>3.018476e+05</td>\n",
       "    </tr>\n",
       "    <tr>\n",
       "      <th>1</th>\n",
       "      <td>-3.529674e+08</td>\n",
       "      <td>-5.498961e+06</td>\n",
       "    </tr>\n",
       "    <tr>\n",
       "      <th>2</th>\n",
       "      <td>-3.529685e+08</td>\n",
       "      <td>-5.747752e+06</td>\n",
       "    </tr>\n",
       "    <tr>\n",
       "      <th>3</th>\n",
       "      <td>-3.529543e+08</td>\n",
       "      <td>-6.377843e+06</td>\n",
       "    </tr>\n",
       "    <tr>\n",
       "      <th>4</th>\n",
       "      <td>-3.530209e+08</td>\n",
       "      <td>-5.038601e+06</td>\n",
       "    </tr>\n",
       "  </tbody>\n",
       "</table>\n",
       "</div>"
      ],
      "text/plain": [
       "             C1            C2\n",
       "0  1.777733e+09  3.018476e+05\n",
       "1 -3.529674e+08 -5.498961e+06\n",
       "2 -3.529685e+08 -5.747752e+06\n",
       "3 -3.529543e+08 -6.377843e+06\n",
       "4 -3.530209e+08 -5.038601e+06"
      ]
     },
     "execution_count": 40,
     "metadata": {},
     "output_type": "execute_result"
    }
   ],
   "source": [
    "trucks_pca.head()"
   ]
  },
  {
   "cell_type": "code",
   "execution_count": 41,
   "id": "275a970f",
   "metadata": {},
   "outputs": [],
   "source": [
    "trucks_pca[\"class\"] = trucks_df[\"class\"]"
   ]
  },
  {
   "cell_type": "code",
   "execution_count": 42,
   "id": "3ec17956",
   "metadata": {},
   "outputs": [
    {
     "data": {
      "text/html": [
       "<div>\n",
       "<style scoped>\n",
       "    .dataframe tbody tr th:only-of-type {\n",
       "        vertical-align: middle;\n",
       "    }\n",
       "\n",
       "    .dataframe tbody tr th {\n",
       "        vertical-align: top;\n",
       "    }\n",
       "\n",
       "    .dataframe thead th {\n",
       "        text-align: right;\n",
       "    }\n",
       "</style>\n",
       "<table border=\"1\" class=\"dataframe\">\n",
       "  <thead>\n",
       "    <tr style=\"text-align: right;\">\n",
       "      <th></th>\n",
       "      <th>C1</th>\n",
       "      <th>C2</th>\n",
       "      <th>class</th>\n",
       "    </tr>\n",
       "  </thead>\n",
       "  <tbody>\n",
       "    <tr>\n",
       "      <th>0</th>\n",
       "      <td>1.777733e+09</td>\n",
       "      <td>3.018476e+05</td>\n",
       "      <td>neg</td>\n",
       "    </tr>\n",
       "    <tr>\n",
       "      <th>1</th>\n",
       "      <td>-3.529674e+08</td>\n",
       "      <td>-5.498961e+06</td>\n",
       "      <td>neg</td>\n",
       "    </tr>\n",
       "    <tr>\n",
       "      <th>2</th>\n",
       "      <td>-3.529685e+08</td>\n",
       "      <td>-5.747752e+06</td>\n",
       "      <td>neg</td>\n",
       "    </tr>\n",
       "    <tr>\n",
       "      <th>3</th>\n",
       "      <td>-3.529543e+08</td>\n",
       "      <td>-6.377843e+06</td>\n",
       "      <td>neg</td>\n",
       "    </tr>\n",
       "    <tr>\n",
       "      <th>4</th>\n",
       "      <td>-3.530209e+08</td>\n",
       "      <td>-5.038601e+06</td>\n",
       "      <td>neg</td>\n",
       "    </tr>\n",
       "  </tbody>\n",
       "</table>\n",
       "</div>"
      ],
      "text/plain": [
       "             C1            C2 class\n",
       "0  1.777733e+09  3.018476e+05   neg\n",
       "1 -3.529674e+08 -5.498961e+06   neg\n",
       "2 -3.529685e+08 -5.747752e+06   neg\n",
       "3 -3.529543e+08 -6.377843e+06   neg\n",
       "4 -3.530209e+08 -5.038601e+06   neg"
      ]
     },
     "execution_count": 42,
     "metadata": {},
     "output_type": "execute_result"
    }
   ],
   "source": [
    "trucks_pca.head()"
   ]
  },
  {
   "cell_type": "code",
   "execution_count": 43,
   "id": "222cc032",
   "metadata": {},
   "outputs": [],
   "source": [
    "trucks_pca['class'].replace('neg', 0, inplace = True)\n",
    "trucks_pca['class'].replace('pos', 1, inplace = True)"
   ]
  },
  {
   "cell_type": "markdown",
   "id": "a136dfde",
   "metadata": {},
   "source": [
    "<div class=\"alert alert-block alert-info\"> 📌 Replace categorical data \"neg\" and \"pos\" with 0, 1.</div>"
   ]
  },
  {
   "cell_type": "code",
   "execution_count": 44,
   "id": "b246dbb7",
   "metadata": {},
   "outputs": [
    {
     "data": {
      "text/html": [
       "<div>\n",
       "<style scoped>\n",
       "    .dataframe tbody tr th:only-of-type {\n",
       "        vertical-align: middle;\n",
       "    }\n",
       "\n",
       "    .dataframe tbody tr th {\n",
       "        vertical-align: top;\n",
       "    }\n",
       "\n",
       "    .dataframe thead th {\n",
       "        text-align: right;\n",
       "    }\n",
       "</style>\n",
       "<table border=\"1\" class=\"dataframe\">\n",
       "  <thead>\n",
       "    <tr style=\"text-align: right;\">\n",
       "      <th></th>\n",
       "      <th>C1</th>\n",
       "      <th>C2</th>\n",
       "      <th>class</th>\n",
       "    </tr>\n",
       "  </thead>\n",
       "  <tbody>\n",
       "    <tr>\n",
       "      <th>0</th>\n",
       "      <td>1.777733e+09</td>\n",
       "      <td>3.018476e+05</td>\n",
       "      <td>0</td>\n",
       "    </tr>\n",
       "    <tr>\n",
       "      <th>1</th>\n",
       "      <td>-3.529674e+08</td>\n",
       "      <td>-5.498961e+06</td>\n",
       "      <td>0</td>\n",
       "    </tr>\n",
       "    <tr>\n",
       "      <th>2</th>\n",
       "      <td>-3.529685e+08</td>\n",
       "      <td>-5.747752e+06</td>\n",
       "      <td>0</td>\n",
       "    </tr>\n",
       "    <tr>\n",
       "      <th>3</th>\n",
       "      <td>-3.529543e+08</td>\n",
       "      <td>-6.377843e+06</td>\n",
       "      <td>0</td>\n",
       "    </tr>\n",
       "    <tr>\n",
       "      <th>4</th>\n",
       "      <td>-3.530209e+08</td>\n",
       "      <td>-5.038601e+06</td>\n",
       "      <td>0</td>\n",
       "    </tr>\n",
       "  </tbody>\n",
       "</table>\n",
       "</div>"
      ],
      "text/plain": [
       "             C1            C2  class\n",
       "0  1.777733e+09  3.018476e+05      0\n",
       "1 -3.529674e+08 -5.498961e+06      0\n",
       "2 -3.529685e+08 -5.747752e+06      0\n",
       "3 -3.529543e+08 -6.377843e+06      0\n",
       "4 -3.530209e+08 -5.038601e+06      0"
      ]
     },
     "execution_count": 44,
     "metadata": {},
     "output_type": "execute_result"
    }
   ],
   "source": [
    "trucks_pca.head()"
   ]
  },
  {
   "cell_type": "code",
   "execution_count": 45,
   "id": "05d133c0",
   "metadata": {},
   "outputs": [
    {
     "name": "stdout",
     "output_type": "stream",
     "text": [
      "STATUS: Original Shape (before PCA):  (57107, 161)\n",
      "STATUS: Transformed Shape (after PCA):  (57107, 3)\n"
     ]
    }
   ],
   "source": [
    "print('STATUS: Original Shape (before PCA): ', newtrucks_cleaned.shape) \n",
    "print('STATUS: Transformed Shape (after PCA): ',trucks_pca.shape) "
   ]
  },
  {
   "cell_type": "markdown",
   "id": "c656563f",
   "metadata": {},
   "source": [
    "<div class=\"alert alert-block alert-info\"> 📌 I present here all the features (independent and dependent variables) and rows of my new pattern.</div>"
   ]
  },
  {
   "cell_type": "code",
   "execution_count": 46,
   "id": "b80fc03a",
   "metadata": {},
   "outputs": [
    {
     "name": "stdout",
     "output_type": "stream",
     "text": [
      "<class 'pandas.core.frame.DataFrame'>\n",
      "RangeIndex: 57107 entries, 0 to 57106\n",
      "Data columns (total 3 columns):\n",
      " #   Column  Non-Null Count  Dtype  \n",
      "---  ------  --------------  -----  \n",
      " 0   C1      57107 non-null  float64\n",
      " 1   C2      57107 non-null  float64\n",
      " 2   class   57107 non-null  int64  \n",
      "dtypes: float64(2), int64(1)\n",
      "memory usage: 1.3 MB\n"
     ]
    }
   ],
   "source": [
    "trucks_pca.info()"
   ]
  },
  {
   "cell_type": "markdown",
   "id": "81402a2d",
   "metadata": {},
   "source": [
    "<div class=\"alert alert-block alert-info\"> 📌 Here we can notice that the 2 new columns that contain the pattern of the Data are numerical variables. Besides, the amount of memory used for this date fell drastically when compared with the previous one, reaffirming the concept of the use of PCA.</div>"
   ]
  },
  {
   "cell_type": "code",
   "execution_count": 47,
   "id": "c25b860b",
   "metadata": {},
   "outputs": [
    {
     "data": {
      "text/plain": [
       "0    56150\n",
       "1      957\n",
       "Name: class, dtype: int64"
      ]
     },
     "execution_count": 47,
     "metadata": {},
     "output_type": "execute_result"
    }
   ],
   "source": [
    "trucks_pca['class'].value_counts()"
   ]
  },
  {
   "cell_type": "code",
   "execution_count": 48,
   "id": "820c91fe",
   "metadata": {},
   "outputs": [],
   "source": [
    "trucks_array = trucks_pca.values"
   ]
  },
  {
   "cell_type": "code",
   "execution_count": 49,
   "id": "b3e8edb7",
   "metadata": {},
   "outputs": [
    {
     "name": "stdout",
     "output_type": "stream",
     "text": [
      "Shape of balanced dataset: (57107, 2) (57107,)\n"
     ]
    }
   ],
   "source": [
    "from sklearn.model_selection import train_test_split\n",
    "X = trucks_array[:,0:2]\n",
    "y = trucks_array[:,2]\n",
    "\n",
    "X_train, X_test, Y_train, Y_test = train_test_split(X, y, test_size=0.2, random_state=42)\n",
    "\n",
    "# print the shape of the balanced dataset\n",
    "print(\"Shape of balanced dataset:\", X.shape, y.shape)"
   ]
  },
  {
   "cell_type": "code",
   "execution_count": 50,
   "id": "07b3799d",
   "metadata": {},
   "outputs": [
    {
     "data": {
      "text/plain": [
       "((45685, 2), (11422, 2), (45685,), (11422,))"
      ]
     },
     "execution_count": 50,
     "metadata": {},
     "output_type": "execute_result"
    }
   ],
   "source": [
    "X_train.shape, X_test.shape, Y_train.shape, Y_test.shape"
   ]
  },
  {
   "cell_type": "markdown",
   "id": "0dad1845",
   "metadata": {},
   "source": [
    "<div class=\"alert alert-block alert-info\"> 📌 The train-test split procedure is used again to estimate the performance of the following machine learning algorithms.</div>"
   ]
  },
  {
   "cell_type": "code",
   "execution_count": 51,
   "id": "d1f1543a",
   "metadata": {},
   "outputs": [],
   "source": [
    "models = []\n",
    "models.append(('LR', LogisticRegression(solver='liblinear', multi_class='ovr')))\n",
    "models.append(('LDA', LinearDiscriminantAnalysis()))\n",
    "models.append(('KNN', KNeighborsClassifier()))\n",
    "models.append(('CART', DecisionTreeClassifier()))\n",
    "models.append(('NB', GaussianNB()))"
   ]
  },
  {
   "cell_type": "markdown",
   "id": "9ac884e4",
   "metadata": {},
   "source": [
    "<div class=\"alert alert-block alert-info\"> 📌 In this step, I will run all the machine learning algorithms with their respective accuracy as we saw in class </div>"
   ]
  },
  {
   "cell_type": "code",
   "execution_count": 52,
   "id": "993d5900",
   "metadata": {},
   "outputs": [
    {
     "name": "stdout",
     "output_type": "stream",
     "text": [
      "LR: 0.661101 (0.305034)\n",
      "LDA: 0.983496 (0.000107)\n",
      "KNN: 0.983452 (0.000174)\n",
      "CART: 0.966379 (0.001584)\n",
      "NB: 0.982204 (0.000918)\n"
     ]
    }
   ],
   "source": [
    "results = []\n",
    "names = []\n",
    "for name, model in models:\n",
    "\tkfold = StratifiedKFold(n_splits=10, random_state=1, shuffle=True)\n",
    "\tcv_results = cross_val_score(model, X_train, Y_train, cv=kfold, scoring='accuracy')\n",
    "\tresults.append(cv_results)\n",
    "\tnames.append(name)\n",
    "\tprint('%s: %f (%f)' % (name, cv_results.mean(), cv_results.std()))"
   ]
  },
  {
   "cell_type": "code",
   "execution_count": 53,
   "id": "bf364f7e",
   "metadata": {},
   "outputs": [
    {
     "data": {
      "image/png": "[encoded data removed]",
      "text/plain": [
       "<Figure size 640x480 with 1 Axes>"
      ]
     },
     "metadata": {},
     "output_type": "display_data"
    }
   ],
   "source": [
    "pyplot.boxplot(results, labels=names)\n",
    "pyplot.title('Algorithm Comparison')\n",
    "pyplot.show()"
   ]
  },
  {
   "cell_type": "code",
   "execution_count": 54,
   "id": "6fd01bae",
   "metadata": {},
   "outputs": [],
   "source": [
    "model = LogisticRegression(solver='liblinear', multi_class='ovr')\n",
    "model.fit(X_train, Y_train)\n",
    "predictions = model.predict(X_test)"
   ]
  },
  {
   "cell_type": "code",
   "execution_count": 55,
   "id": "7d34c509",
   "metadata": {},
   "outputs": [
    {
     "name": "stdout",
     "output_type": "stream",
     "text": [
      "0.9813517772719313\n",
      "[[11209     9]\n",
      " [  204     0]]\n"
     ]
    }
   ],
   "source": [
    "#Generate the confusion matrix\n",
    "cf_matrix = confusion_matrix(Y_test, predictions)\n",
    "\n",
    "print(accuracy_score(Y_test, predictions))\n",
    "print(cf_matrix)"
   ]
  },
  {
   "cell_type": "code",
   "execution_count": 56,
   "id": "0ac8a687",
   "metadata": {},
   "outputs": [
    {
     "name": "stdout",
     "output_type": "stream",
     "text": [
      "True Negative: 11209\n",
      "False Positive: 9\n",
      "False Negative: 204\n",
      "True Positive: 0\n"
     ]
    }
   ],
   "source": [
    "tn, fp, fn, tp = confusion_matrix(Y_test, predictions).ravel()\n",
    "\n",
    "print(\"True Negative:\", tn)\n",
    "print(\"False Positive:\", fp)\n",
    "print(\"False Negative:\", fn)\n",
    "print(\"True Positive:\", tp)"
   ]
  },
  {
   "cell_type": "markdown",
   "id": "cea8055d",
   "metadata": {},
   "source": [
    "<div class=\"alert alert-block alert-info\"> 📌 Through the last analysis, we can see that the reduction of features had direct repercussions on accuracy, however, this was already expected. Now we have a simpler data to be analyzed and visualized, as well as, we can run the machine learning algorithms in a faster way.\n",
    "\n",
    "Furthermore, by analyzing the confusion matrix, we can observe that of the 11422 values tested in the new analysis, 11203 were predicted correclty. However, 15 were wrongly classified as Neg and 204 were wrongly classified as Pos.</div>"
   ]
  },
  {
   "cell_type": "markdown",
   "id": "85d8152f",
   "metadata": {},
   "source": [
    "## 11. Findings"
   ]
  },
  {
   "cell_type": "markdown",
   "id": "7e2d3ce1",
   "metadata": {},
   "source": [
    "1. Binary Classification problem;\n",
    "1. 60,000 data points and 171 features;\n",
    "1. No duplicated rows;\n",
    "1. Highly imbalanced dataset;\n",
    "1. The target variable is'class'.\n",
    "1. Large part of the data is missing (9.03%).\n",
    "1. Most of the attributes are skewed to the right.\n",
    "1. SMOTE, Scaling and PCA are necessary to work with the Dataset."
   ]
  },
  {
   "cell_type": "markdown",
   "id": "2fe79bf4",
   "metadata": {},
   "source": [
    "## 12. Conclusion"
   ]
  },
  {
   "cell_type": "markdown",
   "id": "1842a669",
   "metadata": {},
   "source": [
    "1. After analyzing the Data it was possible to notice a large presence of missing values and how imbalanced my target variable is.\n",
    "1. Before working with my missing values, my Data had 170 strings and 1 int64.\n",
    "1. In my first phase of missing data cleaning, I removed all columns and rows with more than 70% missing values. Right after that, I realized that my features were skewed to the right and replaced the rest of NaN by the median.\n",
    "1. After cleaning, I was left with 161 features and 57107 lines.\n",
    "1. I balanced my target variable using SMOTE and normalised using Scaling and applied the machine learning algorithm to compare it with my post-PCA accuracy. Accuracy: 0.992550549840369\n",
    "1. After applying the PCA and generating the variance plot, I observed that only 2 columns were needed, as they contained 99.5% of the variance.Transformed Shape (after PCA):  (57107, 3)\n",
    "1. After applying PCA and Machine Learning algorithms (to predict), I got an accuracy only 1% lower than before (0.9808264752232534).\n",
    "1. Correctly predicted that the problems are not related to APS.\n",
    "1. In summary, I have a smaller dataset to work with and less space to occupy."
   ]
  },
  {
   "cell_type": "markdown",
   "id": "8e20b075",
   "metadata": {},
   "source": [
    "## 13. References"
   ]
  },
  {
   "cell_type": "markdown",
   "id": "6b206197",
   "metadata": {},
   "source": [
    "Gondek, C., Hafner, D. and Sampson, O.R. (1970) Prediction of failures in the air pressure system of Scania trucks using a random forest and feature engineering, SpringerLink. Springer International Publishing. Available at: https://link.springer.com/chapter/10.1007/978-3-319-46349-0_36 (Accessed: April 18, 2023). \n",
    "\n",
    "Müller, A.C. and Guido, S. (2018) Introduction to machine learning with python: A guide for data scientists. Sebastopol: O'Reilly Media. \n",
    "\n",
    "Selvi, K.T. et al. (2022) “Air Pressure System Failure Prediction and classification in Scania trucks using machine learning,” 2022 Second International Conference on Artificial Intelligence and Smart Energy (ICAIS) [Preprint]. Available at: https://doi.org/10.1109/icais53314.2022.9742716. \n",
    "\n",
    "Rico, J. (2019). DM and ML - Scania Trucks Failure prediction. Available at: https://github.com/jvirico/ScaniaTruckFailurePrediction (Accessed: April 18, 2023).\n",
    "\n",
    "Srivastava, P. and Kaur, N. (2022) “An overview on data cleaning on Real World Data.” Available at: https://doi.org/10.36227/techrxiv.21064039.v1. \n",
    "\n",
    "Zdybał, K. et al. (2020) “PCAfold: Python software to generate, analyze and improve PCA-derived low-dimensional manifolds,” SoftwareX, 12, p. 100630. Available at: https://doi.org/10.1016/j.softx.2020.100630. "
   ]
  }
 ],
 "metadata": {
  "kernelspec": {
   "display_name": "Python 3 (ipykernel)",
   "language": "python",
   "name": "python3"
  },
  "language_info": {
   "codemirror_mode": {
    "name": "ipython",
    "version": 3
   },
   "file_extension": ".py",
   "mimetype": "text/x-python",
   "name": "python",
   "nbconvert_exporter": "python",
   "pygments_lexer": "ipython3",
   "version": "3.11.4"
  }
 },
 "nbformat": 4,
 "nbformat_minor": 5
}
